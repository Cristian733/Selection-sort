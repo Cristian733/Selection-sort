{
  "nbformat": 4,
  "nbformat_minor": 0,
  "metadata": {
    "colab": {
      "provenance": [],
      "authorship_tag": "ABX9TyOZsNdB54o766Y5U+u49L9B",
      "include_colab_link": true
    },
    "kernelspec": {
      "name": "python3",
      "display_name": "Python 3"
    },
    "language_info": {
      "name": "python"
    }
  },
  "cells": [
    {
      "cell_type": "markdown",
      "metadata": {
        "id": "view-in-github",
        "colab_type": "text"
      },
      "source": [
        "<a href=\"https://colab.research.google.com/github/Cristian733/Selection-sort/blob/main/AmbientesdeComputacaoExerc%C3%ADcio1.ipynb\" target=\"_parent\"><img src=\"https://colab.research.google.com/assets/colab-badge.svg\" alt=\"Open In Colab\"/></a>"
      ]
    },
    {
      "cell_type": "code",
      "execution_count": 7,
      "metadata": {
        "colab": {
          "base_uri": "https://localhost:8080/"
        },
        "id": "KAzxI9aO7BIM",
        "outputId": "c8b2d784-c376-425e-bfa4-b781d3d63fd3"
      },
      "outputs": [
        {
          "output_type": "stream",
          "name": "stdout",
          "text": [
            "Primeiro: A\n",
            "Último: G\n",
            "Número de G: 4\n",
            "Novo DNA: AUGCGUAGCUAG\n"
          ]
        }
      ],
      "source": [
        "# Execício 1\n",
        "DNA = \"ATGCGTAGCTAG\"\n",
        "#A\n",
        "primeiro = DNA[0]\n",
        "print(\"Primeiro:\", primeiro)\n",
        "#B\n",
        "ultimo = DNA [(len(DNA) -1)]\n",
        "print(\"Último:\", ultimo)\n",
        "#C\n",
        "nG= DNA.count(\"G\")\n",
        "print(\"Número de G:\", nG)\n",
        "#D\n",
        "novodna=DNA.replace(\"T\",\"U\")\n",
        "print(\"Novo DNA:\", novodna)\n"
      ]
    }
  ]
}