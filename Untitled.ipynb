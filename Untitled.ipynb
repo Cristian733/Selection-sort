{
 "cells": [
  {
   "cell_type": "code",
   "execution_count": 1,
   "id": "56ca6427-d6b6-4a7f-bede-f56ac5ad21ee",
   "metadata": {},
   "outputs": [
    {
     "name": "stdout",
     "output_type": "stream",
     "text": [
      "1\n"
     ]
    }
   ],
   "source": [
    "a=1\n",
    "print(a)"
   ]
  },
  {
   "cell_type": "code",
   "execution_count": 29,
   "id": "31a37bd4-206e-442e-9a35-a623e89b1c71",
   "metadata": {},
   "outputs": [
    {
     "name": "stdout",
     "output_type": "stream",
     "text": [
      "5 0\n",
      "4 1\n",
      "3 2\n",
      "2 3\n",
      "1 4\n",
      "ordenada: [1]\n",
      "5 0\n",
      "4 1\n",
      "3 2\n",
      "2 3\n",
      "ordenada: [1, 2]\n",
      "5 0\n",
      "4 1\n",
      "3 2\n",
      "ordenada: [1, 2, 3]\n",
      "5 0\n",
      "4 1\n",
      "ordenada: [1, 2, 3, 4]\n",
      "5 0\n",
      "ordenada: [1, 2, 3, 4, 5]\n",
      "10 0\n",
      "ordenada: [1, 2, 3, 4, 5, 10]\n"
     ]
    },
    {
     "data": {
      "text/plain": [
       "[1, 2, 3, 4, 5, 10]"
      ]
     },
     "execution_count": 29,
     "metadata": {},
     "output_type": "execute_result"
    }
   ],
   "source": [
    "lista = [5,4,3,2,1,10]\n",
    "def selection_sort(l):\n",
    "    ordenada = []\n",
    "    c = 0\n",
    "    tamanho = len(l)\n",
    "    while c < tamanho:\n",
    "        menor = l[0]\n",
    "        c+=1\n",
    "        for i in l:\n",
    "            if menor >= i:\n",
    "                menor = i\n",
    "                index=l.index(i)\n",
    "                print(menor, index)\n",
    "        ordenada.append(menor)\n",
    "        l.pop(index)\n",
    "        # print(\"ordenada:\",ordenada)\n",
    "    return(ordenada)\n",
    "        # print(menor)\n",
    "\n",
    "selection_sort(lista)\n",
    "        \n",
    "\n",
    "        "
   ]
  },
  {
   "cell_type": "code",
   "execution_count": 37,
   "id": "68767b4c-dfd3-4af0-8b44-93b3bfb10402",
   "metadata": {},
   "outputs": [
    {
     "name": "stdout",
     "output_type": "stream",
     "text": [
      "5 0\n",
      "4 1\n",
      "3 2\n",
      "2 3\n",
      "1 4\n",
      "4 1\n",
      "3 2\n",
      "2 3\n",
      "3 2\n",
      "4 3\n",
      "5 4\n",
      "10 5\n"
     ]
    },
    {
     "data": {
      "text/plain": [
       "[1, 2, 3, 4, 5, 10]"
      ]
     },
     "execution_count": 37,
     "metadata": {},
     "output_type": "execute_result"
    }
   ],
   "source": [
    "lista = [5,4,3,2,1,10]\n",
    "def selection_sort(l):\n",
    "    c = 0\n",
    "    tamanho = len(l)\n",
    "    while c < tamanho:\n",
    "        menor = l[c]\n",
    "        for i in l[c::]:\n",
    "            if menor >= i:\n",
    "                menor = i\n",
    "                index=l.index(i)\n",
    "                print(menor, index)\n",
    "        atual=l[c]\n",
    "        l[c]=menor\n",
    "        l[index]=atual\n",
    "        c+=1\n",
    "        # print(\"ordenada:\",ordenada)\n",
    "    return(l)\n",
    "        # print(menor)\n",
    "\n",
    "selection_sort(lista)\n",
    "        "
   ]
  },
  {
   "cell_type": "code",
   "execution_count": null,
   "id": "12a6b109-b3d3-48f3-8a66-484becb79ce1",
   "metadata": {},
   "outputs": [],
   "source": []
  }
 ],
 "metadata": {
  "kernelspec": {
   "display_name": "Python [conda env:base] *",
   "language": "python",
   "name": "conda-base-py"
  },
  "language_info": {
   "codemirror_mode": {
    "name": "ipython",
    "version": 3
   },
   "file_extension": ".py",
   "mimetype": "text/x-python",
   "name": "python",
   "nbconvert_exporter": "python",
   "pygments_lexer": "ipython3",
   "version": "3.12.7"
  }
 },
 "nbformat": 4,
 "nbformat_minor": 5
}
